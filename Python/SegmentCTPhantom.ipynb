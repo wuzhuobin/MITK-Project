{
 "cells": [
  {
   "cell_type": "code",
   "execution_count": 1,
   "source": [
    "import SimpleITK as sitk;"
   ],
   "outputs": [],
   "metadata": {}
  },
  {
   "cell_type": "code",
   "execution_count": 2,
   "source": [
    "ctPhantom = sitk.ReadImage(fileName=\"../Data/CT-Phantom.nrrd\")"
   ],
   "outputs": [],
   "metadata": {}
  },
  {
   "cell_type": "code",
   "execution_count": 3,
   "source": [
    "otsuThresholdImageFilter = sitk.OtsuThresholdImageFilter()\n",
    "otsuThresholdImageFilter.SetInsideValue(0)\n",
    "otsuThresholdImageFilter.SetOutsideValue(1)\n",
    "ctPhantomSeg = otsuThresholdImageFilter.Execute(ctPhantom)\n",
    "sitk.WriteImage(ctPhantomSeg, \"../Data/CT-Phantom-Seg.nrrd\")"
   ],
   "outputs": [],
   "metadata": {}
  },
  {
   "cell_type": "code",
   "execution_count": 4,
   "source": [
    "connectedComponentImageFilter = sitk.ConnectedComponentImageFilter()\n",
    "ctPhantomSegConnected = connectedComponentImageFilter.Execute(ctPhantomSeg)\n",
    "sitk.WriteImage(ctPhantomSegConnected, \"../Data/CT-Phantom-Seg-Connected.nrrd\")"
   ],
   "outputs": [],
   "metadata": {}
  },
  {
   "cell_type": "code",
   "execution_count": 6,
   "source": [
    "thresholdImageFilter = sitk.ThresholdImageFilter()\n",
    "thresholdImageFilter.SetUpper(3)\n",
    "thresholdImageFilter.SetLower(3)\n",
    "ctPhantomSegConnectedThresholded = thresholdImageFilter.Execute(ctPhantomSegConnected)\n",
    "clampImageFilter = sitk.ClampImageFilter()\n",
    "clampImageFilter.SetLowerBound(0)\n",
    "clampImageFilter.SetUpperBound(1)\n",
    "ctPhantomSegConnectedThresholded = clampImageFilter.Execute(ctPhantomSegConnectedThresholded)\n",
    "sitk.WriteImage(ctPhantomSegConnectedThresholded, \"../Data/CT-Phantom-Seg-Connected-Thresholded.nrrd\")"
   ],
   "outputs": [],
   "metadata": {}
  },
  {
   "cell_type": "code",
   "execution_count": null,
   "source": [],
   "outputs": [],
   "metadata": {}
  }
 ],
 "metadata": {
  "orig_nbformat": 4,
  "language_info": {
   "name": "python",
   "version": "3.7.11",
   "mimetype": "text/x-python",
   "codemirror_mode": {
    "name": "ipython",
    "version": 3
   },
   "pygments_lexer": "ipython3",
   "nbconvert_exporter": "python",
   "file_extension": ".py"
  },
  "kernelspec": {
   "name": "python3",
   "display_name": "Python 3.7.10 64-bit ('image': conda)"
  },
  "interpreter": {
   "hash": "917647407c22db937fab5b3458874e807ef94da79a8fd03f7a807e52b89fb484"
  }
 },
 "nbformat": 4,
 "nbformat_minor": 2
}